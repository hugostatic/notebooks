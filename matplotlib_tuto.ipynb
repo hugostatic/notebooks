{
 "cells": [
  {
   "cell_type": "markdown",
   "metadata": {
    "colab_type": "text",
    "id": "pgeNVnKRM8QR"
   },
   "source": [
    "# Une cellule de texte dans un fichier Jupyter format  ipynb IPython =)\n",
    "## Memo Markdown :\n",
    "###   h3...\n",
    "\n",
    "*Italic*\n",
    "\n",
    "**Gras**\n",
    "\n",
    "> Une citation\n",
    "\n",
    "- item 1\n",
    "* item 2\n",
    "\n",
    "*Une image :*\n",
    "\n",
    "![alt](http://mikemclin.net/mmwp/wp-content/uploads/2013/03/markdown-syntax-laguage.png)\n",
    "\n",
    "[un lien](http://mikemclin.net/markdown-syntax-language/)\n",
    "\n",
    "[IPython](http://ipython.org/)\n",
    "\n",
    "[une vidéo sur Markdown](https://vimeo.com/62604492)\n",
    "\n",
    "**Du code avec de la coloration synthaxique :**\n",
    "```python\n",
    "def carre(x):\n",
    "    return x*x\n",
    "```"
   ]
  },
  {
   "cell_type": "code",
   "execution_count": 4,
   "metadata": {
    "colab": {},
    "colab_type": "code",
    "id": "gzi4bjRMM8QW",
    "outputId": "a49d9f92-3107-473d-be24-0e0cfc9e26b9"
   },
   "outputs": [
    {
     "data": {
      "text/plain": [
       "[<matplotlib.lines.Line2D at 0x164a0455c18>]"
      ]
     },
     "execution_count": 4,
     "metadata": {},
     "output_type": "execute_result"
    },
    {
     "data": {
      "image/png": "[encoded data removed]",
      "text/plain": [
       "<Figure size 432x288 with 1 Axes>"
      ]
     },
     "metadata": {},
     "output_type": "display_data"
    }
   ],
   "source": [
    "import matplotlib.pyplot as plt\n",
    "\n",
    "x = list(range(10))\n",
    "y = [i**2 for i in x]\n",
    "\n",
    "plt.plot(x,y)"
   ]
  },
  {
   "cell_type": "markdown",
   "metadata": {
    "colab_type": "text",
    "id": "npG798URM8Qu"
   },
   "source": [
    "# Loading data\n",
    "* liste\n"
   ]
  },
  {
   "cell_type": "code",
   "execution_count": 5,
   "metadata": {
    "colab": {},
    "colab_type": "code",
    "id": "twvx7HpYM8Qw",
    "outputId": "9de35eb7-6058-496b-ca10-3cc887dca598"
   },
   "outputs": [
    {
     "data": {
      "text/plain": [
       "[10, 15, 20, 25]"
      ]
     },
     "execution_count": 5,
     "metadata": {},
     "output_type": "execute_result"
    }
   ],
   "source": [
    "fifths = list ( range ( 10 , 30 , 5 ))\n",
    "fifths"
   ]
  },
  {
   "cell_type": "markdown",
   "metadata": {
    "colab_type": "text",
    "id": "F039P7qpM8Q7"
   },
   "source": [
    "* NumPy array"
   ]
  },
  {
   "cell_type": "code",
   "execution_count": null,
   "metadata": {
    "colab": {
     "base_uri": "https://localhost:8080/",
     "height": 34
    },
    "colab_type": "code",
    "executionInfo": {
     "elapsed": 967,
     "status": "ok",
     "timestamp": 1543389878445,
     "user": {
      "displayName": "Jean-Marc Kraëber",
      "photoUrl": "https://lh5.googleusercontent.com/-bqJxcww8URs/AAAAAAAAAAI/AAAAAAAAAes/coEpzZR0y0Q/s64/photo.jpg",
      "userId": "13508757695392007880"
     },
     "user_tz": -60
    },
    "id": "Js6o_0y4M8Q-",
    "outputId": "50c5af08-e28a-4320-fbe7-60bff86f178b"
   },
   "outputs": [],
   "source": [
    "import numpy as np\n",
    "x = np.array ([ 2 , 3 , 1 , 0 ])\n",
    "x"
   ]
  },
  {
   "cell_type": "code",
   "execution_count": null,
   "metadata": {
    "colab": {},
    "colab_type": "code",
    "id": "qb5hKac-M8RL",
    "outputId": "6d4f7348-4064-4b00-9a2a-2cdeb35cb13d"
   },
   "outputs": [],
   "source": [
    "import numpy as np\n",
    "tab = np.linspace(3,5,20)\n",
    "tab"
   ]
  },
  {
   "cell_type": "code",
   "execution_count": null,
   "metadata": {
    "colab": {},
    "colab_type": "code",
    "id": "RD6CdE4-M8RW",
    "outputId": "3480996b-a382-4ae5-92c9-e2bcf312b5e5"
   },
   "outputs": [],
   "source": [
    "import matplotlib.pyplot as plt\n",
    "t = [22.2,22.3,22.5,21.8,22.5,23.4,22.8]\n",
    "plt.plot(t)   # en abscisse : par défaut 0, 1, ... , 6 en ordonnée : t[0], t[1], ... , t[6] \n",
    "plt.show()"
   ]
  },
  {
   "cell_type": "code",
   "execution_count": null,
   "metadata": {
    "colab": {},
    "colab_type": "code",
    "id": "C3VzwnCsM8Ri",
    "outputId": "31f8b04c-a6b3-4803-fed3-58687deb2d89"
   },
   "outputs": [],
   "source": [
    "import matplotlib.pyplot as plt\n",
    "plt.plot([1,2,3])       # en abscisse : par défaut 0, 1, 2"
   ]
  },
  {
   "cell_type": "markdown",
   "metadata": {
    "colab_type": "text",
    "id": "zGpmYlmaM8Rs"
   },
   "source": [
    "### préciser les abscisses :"
   ]
  },
  {
   "cell_type": "code",
   "execution_count": null,
   "metadata": {
    "colab": {},
    "colab_type": "code",
    "id": "JeyjX5z8M8Rw",
    "outputId": "a1e2688f-8918-499f-e2e8-71517e980def"
   },
   "outputs": [],
   "source": [
    "import matplotlib.pyplot as plt\n",
    "d = [11,12,13,14,15,16,17]\n",
    "t = [22.2,22.3,22.5,21.8,22.5,23.4,22.8]\n",
    "plt.plot(d,t)\n",
    "plt.show()"
   ]
  },
  {
   "cell_type": "code",
   "execution_count": null,
   "metadata": {
    "colab": {},
    "colab_type": "code",
    "id": "8wpQicPaM8R6",
    "outputId": "47e015c7-2afc-4d8c-c14f-9c87be530b31"
   },
   "outputs": [],
   "source": [
    "import matplotlib.pyplot as plt\n",
    "import numpy as np\n",
    "plt.plot(np.linspace(3,5,10),np.linspace(10,40,10))    # 10 : nb de points utilisés pour le tracé"
   ]
  },
  {
   "cell_type": "markdown",
   "metadata": {
    "colab_type": "text",
    "id": "nYrUW-tPM8SF"
   },
   "source": [
    "## Nuage de points"
   ]
  },
  {
   "cell_type": "code",
   "execution_count": 7,
   "metadata": {
    "colab": {},
    "colab_type": "code",
    "id": "8_vTKHHLM8SH",
    "outputId": "85e2cd1f-c46d-4e4f-888f-fb30de9f6b3d"
   },
   "outputs": [
    {
     "data": {
      "image/png": "[encoded data removed]",
      "text/plain": [
       "<Figure size 432x288 with 1 Axes>"
      ]
     },
     "metadata": {},
     "output_type": "display_data"
    }
   ],
   "source": [
    "import numpy as np \n",
    "import matplotlib.pyplot as plt\n",
    "\n",
    "# Set the random seed for NumPy function to keep the results reproducible \n",
    "np.random.seed(42) \n",
    "\n",
    "# Generate a 2 by 100 NumPy Array of random decimals between 0 and 1 (matrice de dimensions 2x100 = 100 couples de coord.)\n",
    "r = np.random.rand(2,100) \n",
    "\n",
    "# Plot the x and y coordinates of the random dots on a scatter plot (r[0], liste des abscisses et r[1] liste des ordonnées)\n",
    "plt.scatter(r[0],r[1]) \n",
    "\n",
    "# Show the plot\n",
    "plt.show()"
   ]
  },
  {
   "cell_type": "markdown",
   "metadata": {
    "colab_type": "text",
    "id": "6Ua9ipsjM8SS"
   },
   "source": [
    "## Graphiques multiples"
   ]
  },
  {
   "cell_type": "code",
   "execution_count": null,
   "metadata": {
    "colab": {},
    "colab_type": "code",
    "id": "Ygsnj_cGM8SV",
    "outputId": "bcea207b-de98-4a2f-9b20-e22ebe75c017"
   },
   "outputs": [],
   "source": [
    "import matplotlib.pyplot as plt \n",
    "\n",
    "# Prepare the data series \n",
    "d = [11,12,13,14,15,16,17] \n",
    "t0 = [15.3,15.4,12.6,12.7,13.2,12.3,11.4] \n",
    "t1 = [26.1,26.2,24.3,25.1,26.7,27.8,26.9] \n",
    "t2 = [22.3,20.6,19.8,21.6,21.3,19.4,21.4] \n",
    "\n",
    "# Plot the lines for each data series \n",
    "plt.plot(d,t0) \n",
    "plt.plot(d,t1) \n",
    "plt.plot(d,t2)\n",
    "\n",
    "plt.show()"
   ]
  },
  {
   "cell_type": "code",
   "execution_count": 8,
   "metadata": {
    "colab": {},
    "colab_type": "code",
    "id": "dUCyIEVMM8Sn",
    "outputId": "94c861bf-dbb9-4a1f-8ec4-65ccde004113"
   },
   "outputs": [
    {
     "data": {
      "image/png": "[encoded data removed]",
      "text/plain": [
       "<Figure size 432x288 with 1 Axes>"
      ]
     },
     "metadata": {},
     "output_type": "display_data"
    }
   ],
   "source": [
    "import matplotlib.pyplot as plt \n",
    "\n",
    "# seed the random number generator to keep results reproducible \n",
    "np.random.seed(123) \n",
    "\n",
    "# Generate 10 random numbers around 2 as x-coordinates of the first data series \n",
    "x0 = np.random.rand(10)+1.5\n",
    "\n",
    "# Generate the y-coordinates another data series similarly \n",
    "np.random.seed(321) \n",
    "y0 = np.random.rand(10)+2\n",
    "np.random.seed(456) \n",
    "x1 = np.random.rand(10)+2.5 \n",
    "np.random.seed(789)\n",
    "y1 = np.random.rand(10)+2 \n",
    "plt.scatter(x0,y0) \n",
    "plt.scatter(x1,y1) \n",
    "\n",
    "plt.show()"
   ]
  },
  {
   "cell_type": "code",
   "execution_count": null,
   "metadata": {
    "colab": {},
    "colab_type": "code",
    "id": "XEERa2uYM8S6",
    "outputId": "33a704ef-2580-4b41-f019-edef4f36382f"
   },
   "outputs": [],
   "source": [
    "import matplotlib.pyplot as plt \n",
    "from sklearn.datasets import make_blobs\n",
    "# make blobs with 3 centers with random seed of 23 \n",
    "blob_coords,features = make_blobs(centers=3, random_state=23) \n",
    "# plot the blobs, with c value set to map colors to features \n",
    "plt.scatter(blob_coords[:, 0], blob_coords[:, 1], marker='o', c=features) \n",
    "plt.show()"
   ]
  },
  {
   "cell_type": "code",
   "execution_count": null,
   "metadata": {
    "colab": {},
    "colab_type": "code",
    "id": "seBBHm6eM8TJ",
    "outputId": "62469767-d424-43bf-ab04-a47174c93fe4"
   },
   "outputs": [],
   "source": [
    "import numpy as np \n",
    "import matplotlib.pyplot as plt \n",
    "\n",
    "# Generate th \n",
    "np.random.seed(100) \n",
    "x = list(range(10)) \n",
    "y = x+np.random.rand(10)-0.5 \n",
    "\n",
    "# Calculate the slope and y-intercept of the trendline\n",
    "fit = np.polyfit(x,y,1) \n",
    "\n",
    "# Add the trendline \n",
    "yfit = [n*fit[0] for n in x]+fit[1] \n",
    "plt.scatter(x,y) \n",
    "plt.plot(yfit,'black') \n",
    "\n",
    "plt.show()"
   ]
  },
  {
   "cell_type": "markdown",
   "metadata": {
    "colab_type": "text",
    "id": "Pkc4629MM8Tb"
   },
   "source": [
    "## Ajuster les extrémités des axes, axe labels, grille, titre"
   ]
  },
  {
   "cell_type": "code",
   "execution_count": null,
   "metadata": {
    "colab": {},
    "colab_type": "code",
    "id": "W6-Z9btoM8Tf",
    "outputId": "bead7614-76fa-4588-fd59-a17171f54c97"
   },
   "outputs": [],
   "source": [
    "import matplotlib.pyplot as plt \n",
    "d = [11,12,13,14,15,16,17] \n",
    "t0 = [15.3,12.6,12.7,13.2,12.3,11.4,12.8] \n",
    "t1 = [26.1,26.2,24.3,25.1,26.7,27.8,26.9] \n",
    "t2 = [22.3,20.6,19.8,21.6,21.3,19.4,21.4] \n",
    "\n",
    "plt.plot(d,t0)\n",
    "plt.plot(d,t1) \n",
    "plt.plot(d,t2) \n",
    "\n",
    "# Set the limit for each axis \n",
    "plt.xlim(11,15) \n",
    "plt.ylim(0,30)\n",
    "\n",
    "# Légendes\n",
    "plt . xlabel ( 'Date' , size = 12 , fontweight = 'semibold' ) \n",
    "plt . ylabel ( 'Temperature (°C)' , size = 12 , fontweight = 'semibold' )\n",
    "\n",
    "# Grille\n",
    "plt.grid(True,linewidth=0.5,color='#aaaaaa',linestyle='-')\n",
    "\n",
    "# titre\n",
    "plt.title(\"Daily temperature of 3 cities in the second week of December\", size=14, fontweight='bold')\n",
    "plt.savefig('test_matplotlib')"
   ]
  },
  {
   "cell_type": "code",
   "execution_count": null,
   "metadata": {
    "colab": {},
    "colab_type": "code",
    "id": "VEQUBdE9M8Tv"
   },
   "outputs": [],
   "source": []
  }
 ],
 "metadata": {
  "colab": {
   "name": "matplotlib_tuto.ipynb",
   "provenance": [],
   "version": "0.3.2"
  },
  "kernelspec": {
   "display_name": "Python 3",
   "language": "python",
   "name": "python3"
  },
  "language_info": {
   "codemirror_mode": {
    "name": "ipython",
    "version": 3
   },
   "file_extension": ".py",
   "mimetype": "text/x-python",
   "name": "python",
   "nbconvert_exporter": "python",
   "pygments_lexer": "ipython3",
   "version": "3.6.5"
  }
 },
 "nbformat": 4,
 "nbformat_minor": 2
}
