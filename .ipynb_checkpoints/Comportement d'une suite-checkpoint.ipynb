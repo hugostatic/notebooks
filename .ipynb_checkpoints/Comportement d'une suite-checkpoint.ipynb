{
 "cells": [
  {
   "cell_type": "markdown",
   "metadata": {
    "slideshow": {
     "slide_type": "slide"
    }
   },
   "source": [
    "## Etudier le sens de variation d'une suite ##"
   ]
  },
  {
   "cell_type": "markdown",
   "metadata": {
    "collapsed": true,
    "slideshow": {
     "slide_type": "fragment"
    }
   },
   "source": [
    "1. a) $u_n=f(n)$ avec $f(x)=\\sqrt{x}$. La fonction racine carrée est strictement croissante sur $\\mathbb{R^+}$ donc la suite $(u_n)$ est strictement croissante."
   ]
  },
  {
   "cell_type": "code",
   "execution_count": 2,
   "metadata": {
    "slideshow": {
     "slide_type": "slide"
    }
   },
   "outputs": [
    {
     "data": {
      "image/png": "[encoded data removed]",
      "text/plain": [
       "<Figure size 432x288 with 1 Axes>"
      ]
     },
     "metadata": {
      "needs_background": "light"
     },
     "output_type": "display_data"
    }
   ],
   "source": [
    "from math import sqrt\n",
    "import matplotlib.pyplot as plt \n",
    "\n",
    "def courbe(f,a,b):\n",
    "    X = []\n",
    "    Y = []\n",
    "    for k in range(a,b+1) :\n",
    "        X.append(k)\n",
    "        Y.append(f(k))\n",
    "    plt.scatter(X,Y, c=\"red\")\n",
    "    plt.show()\n",
    "    \n",
    "f = lambda x : sqrt(x)\n",
    "    \n",
    "courbe(f,0,10)"
   ]
  },
  {
   "cell_type": "markdown",
   "metadata": {
    "slideshow": {
     "slide_type": "slide"
    }
   },
   "source": [
    "\n",
    "1. b) $u_n=f(n)$ avec $f(x)=\\dfrac{1}{5}x-2$. $f$ est une fonction affine strictement croissante sur $\\mathbb{R^+}$ donc la suite $(u_n)$ est strictement croissante. "
   ]
  },
  {
   "cell_type": "code",
   "execution_count": 3,
   "metadata": {
    "slideshow": {
     "slide_type": "slide"
    }
   },
   "outputs": [
    {
     "data": {
      "image/png": "[encoded data removed]",
      "text/plain": [
       "<Figure size 432x288 with 1 Axes>"
      ]
     },
     "metadata": {
      "needs_background": "light"
     },
     "output_type": "display_data"
    }
   ],
   "source": [
    "import matplotlib.pyplot as plt \n",
    "\n",
    "def courbe(f,a,b):\n",
    "    X = []\n",
    "    Y = []\n",
    "    for k in range(a,b+1) :\n",
    "        X.append(k)\n",
    "        Y.append(f(k))\n",
    "    plt.scatter(X,Y, c=\"red\")\n",
    "    plt.show()\n",
    "    \n",
    "f = lambda x : x/5-2\n",
    "    \n",
    "courbe(f,0, 10)"
   ]
  },
  {
   "cell_type": "markdown",
   "metadata": {
    "slideshow": {
     "slide_type": "slide"
    }
   },
   "source": [
    " $2^{ème}$ méthode : $u$ est une suite arithmétique de raison strictement positive $r=\\dfrac{1}{5}$ "
   ]
  },
  {
   "cell_type": "markdown",
   "metadata": {
    "slideshow": {
     "slide_type": "fragment"
    }
   },
   "source": [
    " $3^{ème}$ méthode : $u_{n+1}-u_n=\\dfrac{1}{5}$ ;  $u_{n+1}-u_n>0$"
   ]
  },
  {
   "cell_type": "markdown",
   "metadata": {
    "slideshow": {
     "slide_type": "slide"
    }
   },
   "source": [
    "2. a) $u_0=2$ et pour tout entier $n$, $u_{n+1}-u_n=-n$ donc pour $n=0$, $u_1-u_0=0$. On en déduit que $u_1=2$.\n",
    "\n",
    "    Pour tout entier $n\\geqslant 1$, $u_{n+1}-u_n<0$ donc la suite $u$ est strictement décroissante à partir de l’indice 1."
   ]
  },
  {
   "cell_type": "markdown",
   "metadata": {
    "slideshow": {
     "slide_type": "slide"
    }
   },
   "source": [
    "2. b) $u_n=\\dfrac{3n-2}{n+1}$. $u_n=f(n)$ avec $f(x)=\\dfrac{3x-2}{x+1}$.\n",
    "On calcule $f'$ pour déterminer les variation de $f$ sur $\\mathbb{R^+}$ :\n",
    "\n",
    "    On pose $u(x)=3x-2$ et $v(x)=x+1$. On a donc $u'(x)=3$ et $v'(x)=1$. <span style=\"color: #FF0000\"> $f'=\\dfrac{u'v-uv'}{v^2}$</span>\n",
    "    \n",
    "    $f'(x)=\\dfrac{3(x+1)-(3x-2)}{(x+1)^2}=\\dfrac{5}{(x+1)^2}$. "
   ]
  },
  {
   "cell_type": "markdown",
   "metadata": {
    "slideshow": {
     "slide_type": "slide"
    }
   },
   "source": [
    "$f'>0$ sur $\\mathbb{R^+}$ donc $f$ est strictement croissante sur $\\mathbb{R^+}$. On en déduit que la suite $u$ est strictement croissante. "
   ]
  },
  {
   "cell_type": "code",
   "execution_count": 4,
   "metadata": {
    "slideshow": {
     "slide_type": "slide"
    }
   },
   "outputs": [
    {
     "data": {
      "image/png": "[encoded data removed]",
      "text/plain": [
       "<Figure size 432x288 with 1 Axes>"
      ]
     },
     "metadata": {
      "needs_background": "light"
     },
     "output_type": "display_data"
    }
   ],
   "source": [
    "import matplotlib.pyplot as plt \n",
    "\n",
    "def courbe(f,a,b):\n",
    "    X = []\n",
    "    Y = []\n",
    "    for k in range(a,b+1) :\n",
    "        X.append(k)\n",
    "        Y.append(f(k))\n",
    "    plt.scatter(X,Y, c=\"red\")\n",
    "    plt.show()\n",
    "    \n",
    "f = lambda x : (3*x-2)/(x+1)\n",
    "    \n",
    "courbe(f,0, 10)"
   ]
  },
  {
   "cell_type": "code",
   "execution_count": null,
   "metadata": {},
   "outputs": [],
   "source": []
  }
 ],
 "metadata": {
  "celltoolbar": "Slideshow",
  "kernelspec": {
   "display_name": "Python 3",
   "language": "python",
   "name": "python3"
  },
  "language_info": {
   "codemirror_mode": {
    "name": "ipython",
    "version": 3
   },
   "file_extension": ".py",
   "mimetype": "text/x-python",
   "name": "python",
   "nbconvert_exporter": "python",
   "pygments_lexer": "ipython3",
   "version": "3.6.5"
  }
 },
 "nbformat": 4,
 "nbformat_minor": 2
}
