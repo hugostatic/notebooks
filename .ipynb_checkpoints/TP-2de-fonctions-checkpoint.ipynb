{
 "cells": [
  {
   "cell_type": "markdown",
   "metadata": {
    "slideshow": {
     "slide_type": "slide"
    }
   },
   "source": [
    "# Exploration des fonctions de variable réelle avec Python\n",
    "\n",
    "1. Créer une fonction de variable réelle $x$, à valeurs dans $\\mathbb{R}$. Implémenter cette fonction mathématique en une fonction Python en complétant le code ci-dessous. "
   ]
  },
  {
   "cell_type": "code",
   "execution_count": null,
   "metadata": {
    "slideshow": {
     "slide_type": "fragment"
    }
   },
   "outputs": [],
   "source": [
    "def ma_fonction(x):\n",
    "    return ..."
   ]
  },
  {
   "cell_type": "markdown",
   "metadata": {
    "slideshow": {
     "slide_type": "fragment"
    }
   },
   "source": [
    "Pour certaines fonctions comme sqrt (racine carrée), cos, exp, log..., il est nécessaire d’importer la bibliothèque __math__ : "
   ]
  },
  {
   "cell_type": "code",
   "execution_count": null,
   "metadata": {
    "slideshow": {
     "slide_type": "fragment"
    }
   },
   "outputs": [],
   "source": [
    "from math import *"
   ]
  },
  {
   "cell_type": "markdown",
   "metadata": {
    "slideshow": {
     "slide_type": "slide"
    }
   },
   "source": [
    "Vérifier le fonctionnement de la fonction *ma_fonction* dans la console, en calculant quelques images."
   ]
  },
  {
   "cell_type": "code",
   "execution_count": null,
   "metadata": {
    "slideshow": {
     "slide_type": "fragment"
    }
   },
   "outputs": [],
   "source": [
    "ma_fonction(...)"
   ]
  },
  {
   "cell_type": "markdown",
   "metadata": {
    "slideshow": {
     "slide_type": "slide"
    }
   },
   "source": [
    "2. Tester alors les deux fonctions ci-dessous, et comparer leur action en les appliquant à *ma_fonction*."
   ]
  },
  {
   "cell_type": "code",
   "execution_count": null,
   "metadata": {
    "slideshow": {
     "slide_type": "fragment"
    }
   },
   "outputs": [],
   "source": [
    "import matplotlib.pyplot as plt \n",
    "\n",
    "def courbe(f,a,b):\n",
    "    X = []\n",
    "    Y = []\n",
    "    for k in range(a,b+1) :\n",
    "        X.append(k)\n",
    "        Y.append(f(k))\n",
    "    plt.plot(X,Y,\"b-\")\n",
    "    plt.show()\n",
    "    \n",
    "courbe(ma_fonction, ..., ...)"
   ]
  },
  {
   "cell_type": "code",
   "execution_count": null,
   "metadata": {
    "slideshow": {
     "slide_type": "fragment"
    }
   },
   "outputs": [],
   "source": [
    "import matplotlib.pyplot as plt\n",
    "\n",
    "def courbe_pas(f,a,b,pas):\n",
    "    X = []\n",
    "    Y = []\n",
    "    while a < b :\n",
    "        X.append(a)\n",
    "        Y.append(f(a))\n",
    "        a = a + pas\n",
    "    plt.plot(X,Y,\"b-\")\n",
    "    plt.show()\n",
    "    \n",
    "courbe_pas(ma_fonction, ..., ...)"
   ]
  },
  {
   "cell_type": "markdown",
   "metadata": {
    "slideshow": {
     "slide_type": "slide"
    }
   },
   "source": [
    "3. Rédiger une fonction *abscisse_minmax* qui prenne pour arguments les coefficients $a$, $b$ et $c$ d’un trinôme du second degré, et qui renvoie l’abscisse du sommet de la parabole associée."
   ]
  },
  {
   "cell_type": "markdown",
   "metadata": {
    "slideshow": {
     "slide_type": "slide"
    }
   },
   "source": [
    "4. Rédiger une fonction *image* de paramètres $a$, $b$, $c$ et $x$, dont la signification semble évidente ..."
   ]
  },
  {
   "cell_type": "markdown",
   "metadata": {
    "slideshow": {
     "slide_type": "slide"
    }
   },
   "source": [
    "5. Compléter le code de la fonction *tracer_courbe* ci-dessous, qui a pour but de tracer la parabole représentant le trinôme $ax^2 + bx + c$, sur un intervalle d’amplitude 10 centré sur l’abscisse du sommet, et avec un pas de pas ; le sommet de la parabole est marqué par un point bleu."
   ]
  },
  {
   "cell_type": "code",
   "execution_count": null,
   "metadata": {
    "slideshow": {
     "slide_type": "slide"
    }
   },
   "outputs": [],
   "source": [
    "import matplotlib.pyplot as plt\n",
    "\n",
    "def tracer_courbe(a,b,c,pas):\n",
    "    # Calcul des coordonnées du min/max\n",
    "    # pour définir un intervalle l'incluant\n",
    "    x_minmax = ..........\n",
    "    y_minmax = ..........\n",
    "    debut = x_minmax-5\n",
    "    fin = x_minmax + 5\n",
    "    X_liste = []\n",
    "    Y_liste = []\n",
    "    curseur = debut\n",
    "    while curseur < ...... :\n",
    "        X_liste.append(...............)\n",
    "        Y_liste.append(...............)\n",
    "        curseur = .............\n",
    "        \n",
    "    plt.plot(....... , ........ , \"r-\")\n",
    "    \n",
    "    # Un point bleu pour le sommet\n",
    "    plt.plot(x_minmax , y_minmax , \"b.\")\n",
    "    plt.grid() # Affichage de la grille\n",
    "    plt.show()"
   ]
  }
 ],
 "metadata": {
  "celltoolbar": "Slideshow",
  "kernelspec": {
   "display_name": "Python 3",
   "language": "python",
   "name": "python3"
  },
  "language_info": {
   "codemirror_mode": {
    "name": "ipython",
    "version": 3
   },
   "file_extension": ".py",
   "mimetype": "text/x-python",
   "name": "python",
   "nbconvert_exporter": "python",
   "pygments_lexer": "ipython3",
   "version": "3.6.5"
  }
 },
 "nbformat": 4,
 "nbformat_minor": 2
}
