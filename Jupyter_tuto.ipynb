{
 "cells": [
  {
   "cell_type": "markdown",
   "metadata": {},
   "source": [
    "# Une cellule de texte dans un fichier Jupyter format  ipynb IPython =)\n",
    "## Memo Markdown :\n",
    "###   h3...\n",
    "\n",
    "*Italic*\n",
    "\n",
    "**Gras**\n",
    "\n",
    "> Une citation\n",
    "\n",
    "- item 1\n",
    "* item 2\n",
    "\n",
    "*Une image :*\n",
    "\n",
    "![alt](http://mikemclin.net/mmwp/wp-content/uploads/2013/03/markdown-syntax-laguage.png)\n",
    "\n",
    "[un lien](http://mikemclin.net/markdown-syntax-language/)\n",
    "\n",
    "[IPython](http://ipython.org/)\n",
    "\n",
    "[une vidéo sur Markdown](https://vimeo.com/62604492)\n",
    "\n",
    "**Du code avec de la coloration synthaxique :**\n",
    "```python\n",
    "def carre(x):\n",
    "    return x*x\n",
    "```"
   ]
  },
  {
   "cell_type": "code",
   "execution_count": null,
   "metadata": {},
   "outputs": [],
   "source": []
  },
  {
   "cell_type": "code",
   "execution_count": null,
   "metadata": {},
   "outputs": [],
   "source": []
  }
 ],
 "metadata": {
  "kernelspec": {
   "display_name": "Python 3",
   "language": "python",
   "name": "python3"
  },
  "language_info": {
   "codemirror_mode": {
    "name": "ipython",
    "version": 3
   },
   "file_extension": ".py",
   "mimetype": "text/x-python",
   "name": "python",
   "nbconvert_exporter": "python",
   "pygments_lexer": "ipython3",
   "version": "3.6.5"
  }
 },
 "nbformat": 4,
 "nbformat_minor": 2
}
