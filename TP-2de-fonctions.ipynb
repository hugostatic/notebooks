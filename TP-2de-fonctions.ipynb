{
  "cells": [
    {
      "metadata": {
        "collapsed": true,
        "slideshow": {
          "slide_type": "slide"
        }
      },
      "cell_type": "markdown",
      "source": "# Exploration des fonctions de variable réelle avec Python\n\n1. Créer une fonction de variable réelle $x$, à valeurs dans $\\mathbb{R}$. Implémenter cette fonction mathématique en une fonction Python en complétant le code ci-dessous. "
    },
    {
      "metadata": {
        "trusted": true,
        "slideshow": {
          "slide_type": "fragment"
        }
      },
      "cell_type": "code",
      "source": "def ma_fonction(x):\n    return ...",
      "execution_count": null,
      "outputs": []
    },
    {
      "metadata": {
        "slideshow": {
          "slide_type": "fragment"
        }
      },
      "cell_type": "markdown",
      "source": "Pour certaines fonctions comme sqrt (racine carrée), cos, exp, log..., il est nécessaire d’importer la bibliothèque __math__ : "
    },
    {
      "metadata": {
        "trusted": true,
        "slideshow": {
          "slide_type": "fragment"
        }
      },
      "cell_type": "code",
      "source": "from math import *",
      "execution_count": null,
      "outputs": []
    },
    {
      "metadata": {
        "slideshow": {
          "slide_type": "slide"
        }
      },
      "cell_type": "markdown",
      "source": "Vérifier le fonctionnement de la fonction *ma_fonction* dans la console, en calculant quelques images."
    },
    {
      "metadata": {
        "trusted": true,
        "slideshow": {
          "slide_type": "fragment"
        }
      },
      "cell_type": "code",
      "source": "ma_fonction(...)",
      "execution_count": null,
      "outputs": []
    },
    {
      "metadata": {
        "slideshow": {
          "slide_type": "slide"
        }
      },
      "cell_type": "markdown",
      "source": "2. Tester alors les deux fonctions ci-dessous, et comparer leur action en les appliquant à *ma_fonction*."
    },
    {
      "metadata": {
        "slideshow": {
          "slide_type": "fragment"
        },
        "trusted": true
      },
      "cell_type": "code",
      "source": "import matplotlib.pyplot as plt \n\ndef courbe(f,a,b):\n    X = []\n    Y = []\n    for k in range(a,b+1) :\n        X.append(k)\n        Y.append(f(k))\n    plt.plot(X,Y,\"b-\")\n    plt.show()\n    \ncourbe(ma_function, ..., ...)",
      "execution_count": null,
      "outputs": []
    },
    {
      "metadata": {
        "slideshow": {
          "slide_type": "fragment"
        },
        "trusted": true
      },
      "cell_type": "code",
      "source": "import matplotlib.pyplot as plt\n\ndef courbe_pas(f,a,b,pas):\n    X = []\n    Y = []\n    while a < b :\n        X.append(a)\n        Y.append(f(a))\n        a = a + pas\n    plt.plot(X,Y,\"b-\")\n    plt.show()\n    \ncourbe_pas(ma_function, ..., ...)",
      "execution_count": null,
      "outputs": []
    },
    {
      "metadata": {
        "slideshow": {
          "slide_type": "slide"
        }
      },
      "cell_type": "markdown",
      "source": "3. Rédiger une fonction *abscisse_minmax* qui prenne pour arguments les coefficients $a$, $b$ et $c$ d’un trinôme du second degré, et qui renvoie l’abscisse du sommet de la parabole associée."
    },
    {
      "metadata": {
        "slideshow": {
          "slide_type": "slide"
        }
      },
      "cell_type": "markdown",
      "source": "4. Rédiger une fonction *image* de paramètres $a$, $b$, $c$ et $x$, dont la signification semble évidente ..."
    },
    {
      "metadata": {
        "slideshow": {
          "slide_type": "slide"
        }
      },
      "cell_type": "markdown",
      "source": "5. Compléter le code de la fonction *tracer_courbe* ci-dessous, qui a pour but de tracer la parabole représentant le trinôme $ax^2 + bx + c$, sur un intervalle d’amplitude 10 centré sur l’abscisse du sommet, et avec un pas de pas ; le sommet de la parabole est marqué par un point bleu."
    },
    {
      "metadata": {
        "slideshow": {
          "slide_type": "slide"
        },
        "trusted": true
      },
      "cell_type": "code",
      "source": "import matplotlib.pyplot as plt\n\ndef tracer_courbe(a,b,c,pas):\n    # Calcul des coordonnées du min/max\n    # pour définir un intervalle l'incluant\n    x_minmax = ..........\n    y_minmax = ..........\n    debut = x_minmax-5\n    fin = x_minmax + 5\n    X_liste = []\n    Y_liste = []\n    curseur = debut\n    while curseur < ...... :\n        X_liste.append(...............)\n        Y_liste.append(...............)\n        curseur = .............\n        \n    plt.plot(....... , ........ , \"r-\")\n    \n    # Un point bleu pour le sommet\n    plt.plot(x_minmax , y_minmax , \"b.\")\n    plt.grid() # Affichage de la grille\n    plt.show()",
      "execution_count": null,
      "outputs": []
    }
  ],
  "metadata": {
    "kernelspec": {
      "name": "python36",
      "display_name": "Python 3.6",
      "language": "python"
    },
    "language_info": {
      "mimetype": "text/x-python",
      "nbconvert_exporter": "python",
      "name": "python",
      "pygments_lexer": "ipython3",
      "version": "3.6.6",
      "file_extension": ".py",
      "codemirror_mode": {
        "version": 3,
        "name": "ipython"
      }
    },
    "celltoolbar": "Slideshow"
  },
  "nbformat": 4,
  "nbformat_minor": 2
}